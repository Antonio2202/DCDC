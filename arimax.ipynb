{
 "cells": [
  {
   "cell_type": "code",
   "execution_count": 69,
   "metadata": {},
   "outputs": [],
   "source": [
    "import pandas as pd\n",
    "import matplotlib.pyplot as plt"
   ]
  },
  {
   "cell_type": "markdown",
   "metadata": {},
   "source": [
    "Cogemos un rago de fechas que tenga datos continuos ya que en el dataset hay varios dias de forma random sin datos."
   ]
  },
  {
   "cell_type": "code",
   "execution_count": 70,
   "metadata": {},
   "outputs": [
    {
     "data": {
      "text/html": [
       "<div>\n",
       "<style scoped>\n",
       "    .dataframe tbody tr th:only-of-type {\n",
       "        vertical-align: middle;\n",
       "    }\n",
       "\n",
       "    .dataframe tbody tr th {\n",
       "        vertical-align: top;\n",
       "    }\n",
       "\n",
       "    .dataframe thead th {\n",
       "        text-align: right;\n",
       "    }\n",
       "</style>\n",
       "<table border=\"1\" class=\"dataframe\">\n",
       "  <thead>\n",
       "    <tr style=\"text-align: right;\">\n",
       "      <th></th>\n",
       "      <th>datetime</th>\n",
       "      <th>temp</th>\n",
       "      <th>precip</th>\n",
       "      <th>preciptype</th>\n",
       "      <th>conditions</th>\n",
       "      <th>tweet_texts</th>\n",
       "      <th>sentiments</th>\n",
       "      <th>icon</th>\n",
       "      <th>number_tweets</th>\n",
       "      <th>hour</th>\n",
       "    </tr>\n",
       "  </thead>\n",
       "  <tbody>\n",
       "    <tr>\n",
       "      <th>0</th>\n",
       "      <td>2018-09-03 08:00:00</td>\n",
       "      <td>20.0</td>\n",
       "      <td>0.0</td>\n",
       "      <td>NaN</td>\n",
       "      <td>Partially cloudy</td>\n",
       "      <td>['Sou a Sara Nunes se ela tivesse nascido com ...</td>\n",
       "      <td>['Positivo', 'Positivo', 'Positivo', 'Positivo...</td>\n",
       "      <td>partly-cloudy-day</td>\n",
       "      <td>161</td>\n",
       "      <td>8</td>\n",
       "    </tr>\n",
       "    <tr>\n",
       "      <th>1</th>\n",
       "      <td>2018-09-03 09:00:00</td>\n",
       "      <td>20.1</td>\n",
       "      <td>0.0</td>\n",
       "      <td>NaN</td>\n",
       "      <td>Overcast</td>\n",
       "      <td>['que essa semana seja tão incrível quanto voc...</td>\n",
       "      <td>['Positivo', 'Positivo', 'Positivo', 'Positivo...</td>\n",
       "      <td>cloudy</td>\n",
       "      <td>255</td>\n",
       "      <td>9</td>\n",
       "    </tr>\n",
       "    <tr>\n",
       "      <th>2</th>\n",
       "      <td>2018-09-03 10:00:00</td>\n",
       "      <td>21.4</td>\n",
       "      <td>0.0</td>\n",
       "      <td>NaN</td>\n",
       "      <td>Overcast</td>\n",
       "      <td>['Massa qndo vc so percebe q so um lado do seu...</td>\n",
       "      <td>['Positivo', 'Positivo', 'Positivo', 'Positivo...</td>\n",
       "      <td>cloudy</td>\n",
       "      <td>892</td>\n",
       "      <td>10</td>\n",
       "    </tr>\n",
       "    <tr>\n",
       "      <th>3</th>\n",
       "      <td>2018-09-03 11:00:00</td>\n",
       "      <td>21.6</td>\n",
       "      <td>0.0</td>\n",
       "      <td>NaN</td>\n",
       "      <td>Overcast</td>\n",
       "      <td>['@frelonrouge 11 novembre 1918 :)', '@Balgan ...</td>\n",
       "      <td>['Positivo', 'Positivo', 'Positivo', 'Positivo...</td>\n",
       "      <td>cloudy</td>\n",
       "      <td>1385</td>\n",
       "      <td>11</td>\n",
       "    </tr>\n",
       "    <tr>\n",
       "      <th>4</th>\n",
       "      <td>2018-09-03 12:00:00</td>\n",
       "      <td>23.0</td>\n",
       "      <td>0.0</td>\n",
       "      <td>NaN</td>\n",
       "      <td>Overcast</td>\n",
       "      <td>['engraçado né a nickelodeon cria um serviço d...</td>\n",
       "      <td>['Positivo', 'Positivo', 'Positivo', 'Positivo...</td>\n",
       "      <td>cloudy</td>\n",
       "      <td>1610</td>\n",
       "      <td>12</td>\n",
       "    </tr>\n",
       "    <tr>\n",
       "      <th>...</th>\n",
       "      <td>...</td>\n",
       "      <td>...</td>\n",
       "      <td>...</td>\n",
       "      <td>...</td>\n",
       "      <td>...</td>\n",
       "      <td>...</td>\n",
       "      <td>...</td>\n",
       "      <td>...</td>\n",
       "      <td>...</td>\n",
       "      <td>...</td>\n",
       "    </tr>\n",
       "    <tr>\n",
       "      <th>572</th>\n",
       "      <td>2018-09-27 04:00:00</td>\n",
       "      <td>23.6</td>\n",
       "      <td>0.0</td>\n",
       "      <td>NaN</td>\n",
       "      <td>Clear</td>\n",
       "      <td>[]</td>\n",
       "      <td>[]</td>\n",
       "      <td>clear-night</td>\n",
       "      <td>0</td>\n",
       "      <td>4</td>\n",
       "    </tr>\n",
       "    <tr>\n",
       "      <th>573</th>\n",
       "      <td>2018-09-27 05:00:00</td>\n",
       "      <td>22.5</td>\n",
       "      <td>0.0</td>\n",
       "      <td>NaN</td>\n",
       "      <td>Clear</td>\n",
       "      <td>[]</td>\n",
       "      <td>[]</td>\n",
       "      <td>clear-night</td>\n",
       "      <td>0</td>\n",
       "      <td>5</td>\n",
       "    </tr>\n",
       "    <tr>\n",
       "      <th>574</th>\n",
       "      <td>2018-09-27 06:00:00</td>\n",
       "      <td>22.4</td>\n",
       "      <td>0.0</td>\n",
       "      <td>NaN</td>\n",
       "      <td>Clear</td>\n",
       "      <td>[]</td>\n",
       "      <td>[]</td>\n",
       "      <td>clear-night</td>\n",
       "      <td>0</td>\n",
       "      <td>6</td>\n",
       "    </tr>\n",
       "    <tr>\n",
       "      <th>575</th>\n",
       "      <td>2018-09-27 07:00:00</td>\n",
       "      <td>22.9</td>\n",
       "      <td>0.0</td>\n",
       "      <td>NaN</td>\n",
       "      <td>Clear</td>\n",
       "      <td>[]</td>\n",
       "      <td>[]</td>\n",
       "      <td>clear-night</td>\n",
       "      <td>0</td>\n",
       "      <td>7</td>\n",
       "    </tr>\n",
       "    <tr>\n",
       "      <th>576</th>\n",
       "      <td>2018-09-27 08:00:00</td>\n",
       "      <td>23.0</td>\n",
       "      <td>0.0</td>\n",
       "      <td>NaN</td>\n",
       "      <td>Clear</td>\n",
       "      <td>[]</td>\n",
       "      <td>[]</td>\n",
       "      <td>clear-day</td>\n",
       "      <td>0</td>\n",
       "      <td>8</td>\n",
       "    </tr>\n",
       "  </tbody>\n",
       "</table>\n",
       "<p>577 rows × 10 columns</p>\n",
       "</div>"
      ],
      "text/plain": [
       "                datetime  temp  precip preciptype        conditions  \\\n",
       "0    2018-09-03 08:00:00  20.0     0.0        NaN  Partially cloudy   \n",
       "1    2018-09-03 09:00:00  20.1     0.0        NaN          Overcast   \n",
       "2    2018-09-03 10:00:00  21.4     0.0        NaN          Overcast   \n",
       "3    2018-09-03 11:00:00  21.6     0.0        NaN          Overcast   \n",
       "4    2018-09-03 12:00:00  23.0     0.0        NaN          Overcast   \n",
       "..                   ...   ...     ...        ...               ...   \n",
       "572  2018-09-27 04:00:00  23.6     0.0        NaN             Clear   \n",
       "573  2018-09-27 05:00:00  22.5     0.0        NaN             Clear   \n",
       "574  2018-09-27 06:00:00  22.4     0.0        NaN             Clear   \n",
       "575  2018-09-27 07:00:00  22.9     0.0        NaN             Clear   \n",
       "576  2018-09-27 08:00:00  23.0     0.0        NaN             Clear   \n",
       "\n",
       "                                           tweet_texts  \\\n",
       "0    ['Sou a Sara Nunes se ela tivesse nascido com ...   \n",
       "1    ['que essa semana seja tão incrível quanto voc...   \n",
       "2    ['Massa qndo vc so percebe q so um lado do seu...   \n",
       "3    ['@frelonrouge 11 novembre 1918 :)', '@Balgan ...   \n",
       "4    ['engraçado né a nickelodeon cria um serviço d...   \n",
       "..                                                 ...   \n",
       "572                                                 []   \n",
       "573                                                 []   \n",
       "574                                                 []   \n",
       "575                                                 []   \n",
       "576                                                 []   \n",
       "\n",
       "                                            sentiments               icon  \\\n",
       "0    ['Positivo', 'Positivo', 'Positivo', 'Positivo...  partly-cloudy-day   \n",
       "1    ['Positivo', 'Positivo', 'Positivo', 'Positivo...             cloudy   \n",
       "2    ['Positivo', 'Positivo', 'Positivo', 'Positivo...             cloudy   \n",
       "3    ['Positivo', 'Positivo', 'Positivo', 'Positivo...             cloudy   \n",
       "4    ['Positivo', 'Positivo', 'Positivo', 'Positivo...             cloudy   \n",
       "..                                                 ...                ...   \n",
       "572                                                 []        clear-night   \n",
       "573                                                 []        clear-night   \n",
       "574                                                 []        clear-night   \n",
       "575                                                 []        clear-night   \n",
       "576                                                 []          clear-day   \n",
       "\n",
       "     number_tweets  hour  \n",
       "0              161     8  \n",
       "1              255     9  \n",
       "2              892    10  \n",
       "3             1385    11  \n",
       "4             1610    12  \n",
       "..             ...   ...  \n",
       "572              0     4  \n",
       "573              0     5  \n",
       "574              0     6  \n",
       "575              0     7  \n",
       "576              0     8  \n",
       "\n",
       "[577 rows x 10 columns]"
      ]
     },
     "execution_count": 70,
     "metadata": {},
     "output_type": "execute_result"
    }
   ],
   "source": [
    "# Definir las fechas de inicio y fin\n",
    "start_date = '2018-09-03 08:00:00'\n",
    "end_date = '2018-09-27 08:00:00'\n",
    "\n",
    "df = pd.read_csv('datos_filtrados.csv')\n",
    "# Filtrar el DataFrame\n",
    "df = df[(df['datetime'] >= start_date) & (df['datetime'] <= end_date)]\n",
    "\n",
    "# Resetear el índice y ajustar para que comience desde 1\n",
    "df = df.reset_index(drop=True)\n",
    "\n",
    "df"
   ]
  },
  {
   "cell_type": "markdown",
   "metadata": {},
   "source": [
    "Se cataloga si el dato es de dia o noche"
   ]
  },
  {
   "cell_type": "code",
   "execution_count": 71,
   "metadata": {},
   "outputs": [
    {
     "name": "stderr",
     "output_type": "stream",
     "text": [
      "C:\\Users\\mussi\\AppData\\Local\\Temp/ipykernel_1084/1960356678.py:2: SettingWithCopyWarning: \n",
      "A value is trying to be set on a copy of a slice from a DataFrame.\n",
      "Try using .loc[row_indexer,col_indexer] = value instead\n",
      "\n",
      "See the caveats in the documentation: https://pandas.pydata.org/pandas-docs/stable/user_guide/indexing.html#returning-a-view-versus-a-copy\n",
      "  serie['momento'] = serie['hour'].apply(lambda x: 1 if 7 <= x <= 19 else 0)\n"
     ]
    },
    {
     "data": {
      "text/html": [
       "<div>\n",
       "<style scoped>\n",
       "    .dataframe tbody tr th:only-of-type {\n",
       "        vertical-align: middle;\n",
       "    }\n",
       "\n",
       "    .dataframe tbody tr th {\n",
       "        vertical-align: top;\n",
       "    }\n",
       "\n",
       "    .dataframe thead th {\n",
       "        text-align: right;\n",
       "    }\n",
       "</style>\n",
       "<table border=\"1\" class=\"dataframe\">\n",
       "  <thead>\n",
       "    <tr style=\"text-align: right;\">\n",
       "      <th></th>\n",
       "      <th>datetime</th>\n",
       "      <th>number_tweets</th>\n",
       "      <th>hour</th>\n",
       "      <th>momento</th>\n",
       "    </tr>\n",
       "  </thead>\n",
       "  <tbody>\n",
       "    <tr>\n",
       "      <th>0</th>\n",
       "      <td>2018-09-03 08:00:00</td>\n",
       "      <td>161</td>\n",
       "      <td>8</td>\n",
       "      <td>1</td>\n",
       "    </tr>\n",
       "    <tr>\n",
       "      <th>1</th>\n",
       "      <td>2018-09-03 09:00:00</td>\n",
       "      <td>255</td>\n",
       "      <td>9</td>\n",
       "      <td>1</td>\n",
       "    </tr>\n",
       "    <tr>\n",
       "      <th>2</th>\n",
       "      <td>2018-09-03 10:00:00</td>\n",
       "      <td>892</td>\n",
       "      <td>10</td>\n",
       "      <td>1</td>\n",
       "    </tr>\n",
       "    <tr>\n",
       "      <th>3</th>\n",
       "      <td>2018-09-03 11:00:00</td>\n",
       "      <td>1385</td>\n",
       "      <td>11</td>\n",
       "      <td>1</td>\n",
       "    </tr>\n",
       "    <tr>\n",
       "      <th>4</th>\n",
       "      <td>2018-09-03 12:00:00</td>\n",
       "      <td>1610</td>\n",
       "      <td>12</td>\n",
       "      <td>1</td>\n",
       "    </tr>\n",
       "    <tr>\n",
       "      <th>...</th>\n",
       "      <td>...</td>\n",
       "      <td>...</td>\n",
       "      <td>...</td>\n",
       "      <td>...</td>\n",
       "    </tr>\n",
       "    <tr>\n",
       "      <th>572</th>\n",
       "      <td>2018-09-27 04:00:00</td>\n",
       "      <td>0</td>\n",
       "      <td>4</td>\n",
       "      <td>0</td>\n",
       "    </tr>\n",
       "    <tr>\n",
       "      <th>573</th>\n",
       "      <td>2018-09-27 05:00:00</td>\n",
       "      <td>0</td>\n",
       "      <td>5</td>\n",
       "      <td>0</td>\n",
       "    </tr>\n",
       "    <tr>\n",
       "      <th>574</th>\n",
       "      <td>2018-09-27 06:00:00</td>\n",
       "      <td>0</td>\n",
       "      <td>6</td>\n",
       "      <td>0</td>\n",
       "    </tr>\n",
       "    <tr>\n",
       "      <th>575</th>\n",
       "      <td>2018-09-27 07:00:00</td>\n",
       "      <td>0</td>\n",
       "      <td>7</td>\n",
       "      <td>1</td>\n",
       "    </tr>\n",
       "    <tr>\n",
       "      <th>576</th>\n",
       "      <td>2018-09-27 08:00:00</td>\n",
       "      <td>0</td>\n",
       "      <td>8</td>\n",
       "      <td>1</td>\n",
       "    </tr>\n",
       "  </tbody>\n",
       "</table>\n",
       "<p>577 rows × 4 columns</p>\n",
       "</div>"
      ],
      "text/plain": [
       "                datetime  number_tweets  hour  momento\n",
       "0    2018-09-03 08:00:00            161     8        1\n",
       "1    2018-09-03 09:00:00            255     9        1\n",
       "2    2018-09-03 10:00:00            892    10        1\n",
       "3    2018-09-03 11:00:00           1385    11        1\n",
       "4    2018-09-03 12:00:00           1610    12        1\n",
       "..                   ...            ...   ...      ...\n",
       "572  2018-09-27 04:00:00              0     4        0\n",
       "573  2018-09-27 05:00:00              0     5        0\n",
       "574  2018-09-27 06:00:00              0     6        0\n",
       "575  2018-09-27 07:00:00              0     7        1\n",
       "576  2018-09-27 08:00:00              0     8        1\n",
       "\n",
       "[577 rows x 4 columns]"
      ]
     },
     "execution_count": 71,
     "metadata": {},
     "output_type": "execute_result"
    }
   ],
   "source": [
    "serie = df[['datetime', 'number_tweets', 'hour']]\n",
    "serie['momento'] = serie['hour'].apply(lambda x: 1 if 7 <= x <= 19 else 0)\n",
    "serie"
   ]
  },
  {
   "cell_type": "code",
   "execution_count": 72,
   "metadata": {},
   "outputs": [
    {
     "name": "stderr",
     "output_type": "stream",
     "text": [
      "C:\\Users\\mussi\\AppData\\Local\\Temp/ipykernel_1084/664416369.py:1: SettingWithCopyWarning: \n",
      "A value is trying to be set on a copy of a slice from a DataFrame\n",
      "\n",
      "See the caveats in the documentation: https://pandas.pydata.org/pandas-docs/stable/user_guide/indexing.html#returning-a-view-versus-a-copy\n",
      "  serie.drop('hour', axis=1, inplace=True)\n"
     ]
    }
   ],
   "source": [
    "serie.drop('hour', axis=1, inplace=True)"
   ]
  },
  {
   "cell_type": "markdown",
   "metadata": {},
   "source": [
    "Aún así hay varias horas con 0 tweets, puede ser porque haya horas que no dse tweetee ya que no conocemos la procedencia especifica de los datos."
   ]
  },
  {
   "cell_type": "code",
   "execution_count": 40,
   "metadata": {},
   "outputs": [
    {
     "data": {
      "text/plain": [
       "0      205\n",
       "847      3\n",
       "646      3\n",
       "669      3\n",
       "413      2\n",
       "      ... \n",
       "888      1\n",
       "629      1\n",
       "587      1\n",
       "474      1\n",
       "419      1\n",
       "Name: number_tweets, Length: 347, dtype: int64"
      ]
     },
     "execution_count": 40,
     "metadata": {},
     "output_type": "execute_result"
    }
   ],
   "source": [
    "serie['number_tweets'].value_counts()"
   ]
  },
  {
   "cell_type": "markdown",
   "metadata": {},
   "source": [
    "No se debe a horas de noche ya que las horas con 0 tweets está distribuido entre todas las horas del día. Aún así, por la duda de la procedencia de los datos, y dejando lugar a la posibilidad de que realmente no haya datos lo dejamos así en vez de hacer una interpolación de los datos con valor 0 para no sesgar el análisis."
   ]
  },
  {
   "cell_type": "code",
   "execution_count": 41,
   "metadata": {},
   "outputs": [
    {
     "data": {
      "text/plain": [
       "0      4\n",
       "1      5\n",
       "2      6\n",
       "3      7\n",
       "4      8\n",
       "5     10\n",
       "6     10\n",
       "7     11\n",
       "8     11\n",
       "9     10\n",
       "10     8\n",
       "11     7\n",
       "12     8\n",
       "13    11\n",
       "14    10\n",
       "15    10\n",
       "16    10\n",
       "17     9\n",
       "18    10\n",
       "19    10\n",
       "20     8\n",
       "21     7\n",
       "22     9\n",
       "23     6\n",
       "Name: hour, dtype: int64"
      ]
     },
     "execution_count": 41,
     "metadata": {},
     "output_type": "execute_result"
    }
   ],
   "source": [
    "# Filtrar las filas donde number_tweets es 0\n",
    "zero_tweets = df[df['number_tweets'] == 0]\n",
    "\n",
    "# Contar cuántos valores de 0 hay en number_tweets para cada hora\n",
    "hourly_zero_tweets = zero_tweets['hour'].value_counts().sort_index()\n",
    "\n",
    "hourly_zero_tweets"
   ]
  },
  {
   "cell_type": "code",
   "execution_count": 73,
   "metadata": {},
   "outputs": [],
   "source": [
    "serie = serie.set_index('datetime')  # Usar datetime como índice"
   ]
  },
  {
   "cell_type": "code",
   "execution_count": 74,
   "metadata": {},
   "outputs": [
    {
     "data": {
      "text/html": [
       "<div>\n",
       "<style scoped>\n",
       "    .dataframe tbody tr th:only-of-type {\n",
       "        vertical-align: middle;\n",
       "    }\n",
       "\n",
       "    .dataframe tbody tr th {\n",
       "        vertical-align: top;\n",
       "    }\n",
       "\n",
       "    .dataframe thead th {\n",
       "        text-align: right;\n",
       "    }\n",
       "</style>\n",
       "<table border=\"1\" class=\"dataframe\">\n",
       "  <thead>\n",
       "    <tr style=\"text-align: right;\">\n",
       "      <th></th>\n",
       "      <th>number_tweets</th>\n",
       "      <th>momento</th>\n",
       "    </tr>\n",
       "    <tr>\n",
       "      <th>datetime</th>\n",
       "      <th></th>\n",
       "      <th></th>\n",
       "    </tr>\n",
       "  </thead>\n",
       "  <tbody>\n",
       "    <tr>\n",
       "      <th>2018-09-03 08:00:00</th>\n",
       "      <td>161</td>\n",
       "      <td>1</td>\n",
       "    </tr>\n",
       "    <tr>\n",
       "      <th>2018-09-03 09:00:00</th>\n",
       "      <td>255</td>\n",
       "      <td>1</td>\n",
       "    </tr>\n",
       "    <tr>\n",
       "      <th>2018-09-03 10:00:00</th>\n",
       "      <td>892</td>\n",
       "      <td>1</td>\n",
       "    </tr>\n",
       "    <tr>\n",
       "      <th>2018-09-03 11:00:00</th>\n",
       "      <td>1385</td>\n",
       "      <td>1</td>\n",
       "    </tr>\n",
       "    <tr>\n",
       "      <th>2018-09-03 12:00:00</th>\n",
       "      <td>1610</td>\n",
       "      <td>1</td>\n",
       "    </tr>\n",
       "    <tr>\n",
       "      <th>...</th>\n",
       "      <td>...</td>\n",
       "      <td>...</td>\n",
       "    </tr>\n",
       "    <tr>\n",
       "      <th>2018-09-27 04:00:00</th>\n",
       "      <td>0</td>\n",
       "      <td>0</td>\n",
       "    </tr>\n",
       "    <tr>\n",
       "      <th>2018-09-27 05:00:00</th>\n",
       "      <td>0</td>\n",
       "      <td>0</td>\n",
       "    </tr>\n",
       "    <tr>\n",
       "      <th>2018-09-27 06:00:00</th>\n",
       "      <td>0</td>\n",
       "      <td>0</td>\n",
       "    </tr>\n",
       "    <tr>\n",
       "      <th>2018-09-27 07:00:00</th>\n",
       "      <td>0</td>\n",
       "      <td>1</td>\n",
       "    </tr>\n",
       "    <tr>\n",
       "      <th>2018-09-27 08:00:00</th>\n",
       "      <td>0</td>\n",
       "      <td>1</td>\n",
       "    </tr>\n",
       "  </tbody>\n",
       "</table>\n",
       "<p>577 rows × 2 columns</p>\n",
       "</div>"
      ],
      "text/plain": [
       "                     number_tweets  momento\n",
       "datetime                                   \n",
       "2018-09-03 08:00:00            161        1\n",
       "2018-09-03 09:00:00            255        1\n",
       "2018-09-03 10:00:00            892        1\n",
       "2018-09-03 11:00:00           1385        1\n",
       "2018-09-03 12:00:00           1610        1\n",
       "...                            ...      ...\n",
       "2018-09-27 04:00:00              0        0\n",
       "2018-09-27 05:00:00              0        0\n",
       "2018-09-27 06:00:00              0        0\n",
       "2018-09-27 07:00:00              0        1\n",
       "2018-09-27 08:00:00              0        1\n",
       "\n",
       "[577 rows x 2 columns]"
      ]
     },
     "execution_count": 74,
     "metadata": {},
     "output_type": "execute_result"
    }
   ],
   "source": [
    "serie"
   ]
  },
  {
   "cell_type": "markdown",
   "metadata": {},
   "source": [
    "Se analiza que la serie es estacionaria"
   ]
  },
  {
   "cell_type": "code",
   "execution_count": 44,
   "metadata": {},
   "outputs": [
    {
     "name": "stdout",
     "output_type": "stream",
     "text": [
      "Estadístico ADF: -9.46689185669686\n",
      "Valor p: 4.206569447545353e-16\n",
      "Número de rezagos usados: 3\n",
      "Número de observaciones: 573\n",
      "Valor crítico 1%: -3.4418139386911513\n",
      "Valor crítico 5%: -2.866597262008035\n",
      "Valor crítico 10%: -2.5694633721967906\n",
      "Rechazamos H₀: La serie es estacionaria.\n"
     ]
    }
   ],
   "source": [
    "from statsmodels.tsa.stattools import adfuller\n",
    "\n",
    "# Aplicar la prueba ADF\n",
    "result = adfuller(serie['number_tweets'])\n",
    "\n",
    "# Resultados\n",
    "print(f'Estadístico ADF: {result[0]}')\n",
    "print(f'Valor p: {result[1]}')\n",
    "print(f'Número de rezagos usados: {result[2]}')\n",
    "print(f'Número de observaciones: {result[3]}')\n",
    "\n",
    "# Valores críticos\n",
    "for key, value in result[4].items():\n",
    "    print(f'Valor crítico {key}: {value}')\n",
    "\n",
    "# Interpretación\n",
    "if result[1] < 0.05:\n",
    "    print(\"Rechazamos H₀: La serie es estacionaria.\")\n",
    "else:\n",
    "    print(\"No podemos rechazar H₀: La serie no es estacionaria.\")\n"
   ]
  },
  {
   "cell_type": "markdown",
   "metadata": {},
   "source": [
    "Concluimos que la serie es estacional con período diario"
   ]
  },
  {
   "cell_type": "code",
   "execution_count": 45,
   "metadata": {},
   "outputs": [
    {
     "data": {
      "image/png": "[encoded data removed]",
      "text/plain": [
       "<Figure size 432x288 with 4 Axes>"
      ]
     },
     "execution_count": 45,
     "metadata": {},
     "output_type": "execute_result"
    },
    {
     "data": {
      "image/png": "[encoded data removed]",
      "text/plain": [
       "<Figure size 432x288 with 4 Axes>"
      ]
     },
     "metadata": {
      "needs_background": "light"
     },
     "output_type": "display_data"
    }
   ],
   "source": [
    "from statsmodels.tsa.seasonal import seasonal_decompose\n",
    "\n",
    "# Descomponer la serie temporal\n",
    "result = seasonal_decompose(serie['number_tweets'], model='additive', period=24)  # Cambia 'period' según la frecuencia estacional esperada\n",
    "\n",
    "result.plot()\n"
   ]
  },
  {
   "cell_type": "code",
   "execution_count": 61,
   "metadata": {},
   "outputs": [
    {
     "data": {
      "image/png": "[encoded data removed]",
      "text/plain": [
       "<Figure size 432x288 with 4 Axes>"
      ]
     },
     "metadata": {
      "needs_background": "light"
     },
     "output_type": "display_data"
    }
   ],
   "source": [
    "from statsmodels.tsa.seasonal import STL\n",
    "\n",
    "stl = STL(serie['number_tweets'], seasonal=25)  \n",
    "result = stl.fit()\n",
    "result.plot()\n",
    "plt.show()"
   ]
  },
  {
   "cell_type": "markdown",
   "metadata": {},
   "source": [
    "Analizaremos si el momento del día (día o noche) afecta a la serie"
   ]
  },
  {
   "cell_type": "code",
   "execution_count": 75,
   "metadata": {},
   "outputs": [],
   "source": [
    "y = serie['number_tweets']  # Serie principal\n",
    "X = serie['momento']  # Variable exógena\n"
   ]
  },
  {
   "cell_type": "code",
   "execution_count": 76,
   "metadata": {},
   "outputs": [],
   "source": [
    "from statsmodels.tsa.statespace.sarimax import SARIMAX\n",
    "from pmdarima import auto_arima"
   ]
  },
  {
   "cell_type": "markdown",
   "metadata": {},
   "source": [
    "Le damos un ciclo de 24 por las horas del día, aunque probando con otros números vemos que la elección de otro número no modifica al resultado final."
   ]
  },
  {
   "cell_type": "code",
   "execution_count": 65,
   "metadata": {},
   "outputs": [
    {
     "name": "stdout",
     "output_type": "stream",
     "text": [
      "Performing stepwise search to minimize aic\n",
      " ARIMA(2,0,2)(0,0,0)[0] intercept   : AIC=8813.364, Time=0.75 sec\n",
      " ARIMA(0,0,0)(0,0,0)[0] intercept   : AIC=9496.211, Time=0.02 sec\n",
      " ARIMA(1,0,0)(0,0,0)[0] intercept   : AIC=8851.636, Time=0.05 sec\n",
      " ARIMA(0,0,1)(0,0,0)[0] intercept   : AIC=9071.223, Time=0.23 sec\n",
      " ARIMA(0,0,0)(0,0,0)[0]             : AIC=9814.276, Time=0.02 sec\n",
      " ARIMA(1,0,2)(0,0,0)[0] intercept   : AIC=8819.073, Time=0.11 sec\n",
      " ARIMA(2,0,1)(0,0,0)[0] intercept   : AIC=8805.906, Time=0.37 sec\n",
      " ARIMA(1,0,1)(0,0,0)[0] intercept   : AIC=8823.046, Time=0.08 sec\n",
      " ARIMA(2,0,0)(0,0,0)[0] intercept   : AIC=8813.300, Time=0.07 sec\n",
      " ARIMA(3,0,1)(0,0,0)[0] intercept   : AIC=8811.196, Time=0.24 sec\n",
      " ARIMA(3,0,0)(0,0,0)[0] intercept   : AIC=8809.581, Time=0.10 sec\n",
      " ARIMA(3,0,2)(0,0,0)[0] intercept   : AIC=inf, Time=0.81 sec\n",
      " ARIMA(2,0,1)(0,0,0)[0]             : AIC=8850.928, Time=0.09 sec\n",
      "\n",
      "Best model:  ARIMA(2,0,1)(0,0,0)[0] intercept\n",
      "Total fit time: 2.942 seconds\n",
      "                               SARIMAX Results                                \n",
      "==============================================================================\n",
      "Dep. Variable:                      y   No. Observations:                  577\n",
      "Model:               SARIMAX(2, 0, 1)   Log Likelihood               -4397.953\n",
      "Date:                Wed, 18 Dec 2024   AIC                           8805.906\n",
      "Time:                        16:54:25   BIC                           8827.695\n",
      "Sample:                    09-03-2018   HQIC                          8814.402\n",
      "                         - 09-27-2018                                         \n",
      "Covariance Type:                  opg                                         \n",
      "==============================================================================\n",
      "                 coef    std err          z      P>|z|      [0.025      0.975]\n",
      "------------------------------------------------------------------------------\n",
      "intercept    100.5419     28.738      3.499      0.000      44.216     156.868\n",
      "ar.L1          1.5383      0.107     14.363      0.000       1.328       1.748\n",
      "ar.L2         -0.6679      0.085     -7.845      0.000      -0.835      -0.501\n",
      "ma.L1         -0.5660      0.108     -5.251      0.000      -0.777      -0.355\n",
      "sigma2      2.507e+05   1.03e+04     24.408      0.000    2.31e+05    2.71e+05\n",
      "===================================================================================\n",
      "Ljung-Box (L1) (Q):                   0.33   Jarque-Bera (JB):              1939.77\n",
      "Prob(Q):                              0.56   Prob(JB):                         0.00\n",
      "Heteroskedasticity (H):               0.30   Skew:                            -0.01\n",
      "Prob(H) (two-sided):                  0.00   Kurtosis:                        11.98\n",
      "===================================================================================\n",
      "\n",
      "Warnings:\n",
      "[1] Covariance matrix calculated using the outer product of gradients (complex-step).\n"
     ]
    }
   ],
   "source": [
    "# Determinar automáticamente los mejores parámetros para ARIMA\n",
    "auto_model = auto_arima(y, exogenous=X,\n",
    "                      stepwise=True,  # Realiza una búsqueda paso a paso\n",
    "                      trace=True,  # Muestra el proceso de búsqueda\n",
    "                      suppress_warnings=True,  # Suprime los avisos\n",
    "                      )  # Utiliza todos los núcleos del procesador)\n",
    "print(auto_model.summary())\n",
    "\n",
    "# Los parámetros sugeridos estarán en auto_model.order\n",
    "p, d, q = auto_model.order\n"
   ]
  },
  {
   "cell_type": "code",
   "execution_count": 77,
   "metadata": {},
   "outputs": [
    {
     "name": "stderr",
     "output_type": "stream",
     "text": [
      "C:\\Users\\mussi\\AppData\\Local\\Packages\\PythonSoftwareFoundation.Python.3.9_qbz5n2kfra8p0\\LocalCache\\local-packages\\Python39\\site-packages\\statsmodels\\tsa\\base\\tsa_model.py:473: ValueWarning: No frequency information was provided, so inferred frequency H will be used.\n",
      "  self._init_dates(dates, freq)\n",
      "C:\\Users\\mussi\\AppData\\Local\\Packages\\PythonSoftwareFoundation.Python.3.9_qbz5n2kfra8p0\\LocalCache\\local-packages\\Python39\\site-packages\\statsmodels\\tsa\\base\\tsa_model.py:473: ValueWarning: No frequency information was provided, so inferred frequency H will be used.\n",
      "  self._init_dates(dates, freq)\n",
      "C:\\Users\\mussi\\AppData\\Local\\Packages\\PythonSoftwareFoundation.Python.3.9_qbz5n2kfra8p0\\LocalCache\\local-packages\\Python39\\site-packages\\statsmodels\\tsa\\statespace\\representation.py:374: FutureWarning: Unknown keyword arguments: dict_keys(['seasonal']).Passing unknown keyword arguments will raise a TypeError beginning in version 0.15.\n",
      "  warnings.warn(msg, FutureWarning)\n"
     ]
    },
    {
     "name": "stdout",
     "output_type": "stream",
     "text": [
      "                               SARIMAX Results                                \n",
      "==============================================================================\n",
      "Dep. Variable:          number_tweets   No. Observations:                  577\n",
      "Model:               SARIMAX(4, 0, 0)   Log Likelihood               -4421.246\n",
      "Date:                Wed, 18 Dec 2024   AIC                           8854.492\n",
      "Time:                        17:02:09   BIC                           8880.639\n",
      "Sample:                    09-03-2018   HQIC                          8864.689\n",
      "                         - 09-27-2018                                         \n",
      "Covariance Type:                  opg                                         \n",
      "==============================================================================\n",
      "                 coef    std err          z      P>|z|      [0.025      0.975]\n",
      "------------------------------------------------------------------------------\n",
      "momento      -52.7882     83.986     -0.629      0.530    -217.397     111.821\n",
      "ar.L1          1.0779      0.025     43.370      0.000       1.029       1.127\n",
      "ar.L2         -0.1723      0.036     -4.734      0.000      -0.244      -0.101\n",
      "ar.L3         -0.0470      0.037     -1.286      0.198      -0.119       0.025\n",
      "ar.L4          0.0189      0.031      0.602      0.547      -0.043       0.080\n",
      "sigma2      2.556e+05   8228.391     31.061      0.000    2.39e+05    2.72e+05\n",
      "===================================================================================\n",
      "Ljung-Box (L1) (Q):                   0.82   Jarque-Bera (JB):              2538.85\n",
      "Prob(Q):                              0.36   Prob(JB):                         0.00\n",
      "Heteroskedasticity (H):               0.30   Skew:                            -0.49\n",
      "Prob(H) (two-sided):                  0.00   Kurtosis:                        13.23\n",
      "===================================================================================\n",
      "\n",
      "Warnings:\n",
      "[1] Covariance matrix calculated using the outer product of gradients (complex-step).\n"
     ]
    }
   ],
   "source": [
    "model = SARIMAX(y, \n",
    "                exog=X,  # La variable exógena (día o noche)\n",
    "                order=(4, 0, 0),seasonal=(0,0,0,0))  \n",
    "\n",
    "results = model.fit()\n",
    "\n",
    "# Imprimir el resumen del modelo\n",
    "print(results.summary())\n"
   ]
  },
  {
   "cell_type": "markdown",
   "metadata": {},
   "source": [
    "El resultado del p valor es  0.517 e la columna momento, por lo que entendemos que el momento del día no afecta a el número de tweets publciados."
   ]
  },
  {
   "cell_type": "markdown",
   "metadata": {},
   "source": [
    "Procedemos a realizar otro análisis, esta vez viendo cómo afecta el día de la semana a el número de tweets."
   ]
  },
  {
   "cell_type": "code",
   "execution_count": 78,
   "metadata": {},
   "outputs": [
    {
     "data": {
      "text/html": [
       "<div>\n",
       "<style scoped>\n",
       "    .dataframe tbody tr th:only-of-type {\n",
       "        vertical-align: middle;\n",
       "    }\n",
       "\n",
       "    .dataframe tbody tr th {\n",
       "        vertical-align: top;\n",
       "    }\n",
       "\n",
       "    .dataframe thead th {\n",
       "        text-align: right;\n",
       "    }\n",
       "</style>\n",
       "<table border=\"1\" class=\"dataframe\">\n",
       "  <thead>\n",
       "    <tr style=\"text-align: right;\">\n",
       "      <th></th>\n",
       "      <th>datetime</th>\n",
       "      <th>number_tweets</th>\n",
       "    </tr>\n",
       "  </thead>\n",
       "  <tbody>\n",
       "    <tr>\n",
       "      <th>0</th>\n",
       "      <td>2018-09-03 08:00:00</td>\n",
       "      <td>161</td>\n",
       "    </tr>\n",
       "    <tr>\n",
       "      <th>1</th>\n",
       "      <td>2018-09-03 09:00:00</td>\n",
       "      <td>255</td>\n",
       "    </tr>\n",
       "    <tr>\n",
       "      <th>2</th>\n",
       "      <td>2018-09-03 10:00:00</td>\n",
       "      <td>892</td>\n",
       "    </tr>\n",
       "    <tr>\n",
       "      <th>3</th>\n",
       "      <td>2018-09-03 11:00:00</td>\n",
       "      <td>1385</td>\n",
       "    </tr>\n",
       "    <tr>\n",
       "      <th>4</th>\n",
       "      <td>2018-09-03 12:00:00</td>\n",
       "      <td>1610</td>\n",
       "    </tr>\n",
       "    <tr>\n",
       "      <th>...</th>\n",
       "      <td>...</td>\n",
       "      <td>...</td>\n",
       "    </tr>\n",
       "    <tr>\n",
       "      <th>572</th>\n",
       "      <td>2018-09-27 04:00:00</td>\n",
       "      <td>0</td>\n",
       "    </tr>\n",
       "    <tr>\n",
       "      <th>573</th>\n",
       "      <td>2018-09-27 05:00:00</td>\n",
       "      <td>0</td>\n",
       "    </tr>\n",
       "    <tr>\n",
       "      <th>574</th>\n",
       "      <td>2018-09-27 06:00:00</td>\n",
       "      <td>0</td>\n",
       "    </tr>\n",
       "    <tr>\n",
       "      <th>575</th>\n",
       "      <td>2018-09-27 07:00:00</td>\n",
       "      <td>0</td>\n",
       "    </tr>\n",
       "    <tr>\n",
       "      <th>576</th>\n",
       "      <td>2018-09-27 08:00:00</td>\n",
       "      <td>0</td>\n",
       "    </tr>\n",
       "  </tbody>\n",
       "</table>\n",
       "<p>577 rows × 2 columns</p>\n",
       "</div>"
      ],
      "text/plain": [
       "                datetime  number_tweets\n",
       "0    2018-09-03 08:00:00            161\n",
       "1    2018-09-03 09:00:00            255\n",
       "2    2018-09-03 10:00:00            892\n",
       "3    2018-09-03 11:00:00           1385\n",
       "4    2018-09-03 12:00:00           1610\n",
       "..                   ...            ...\n",
       "572  2018-09-27 04:00:00              0\n",
       "573  2018-09-27 05:00:00              0\n",
       "574  2018-09-27 06:00:00              0\n",
       "575  2018-09-27 07:00:00              0\n",
       "576  2018-09-27 08:00:00              0\n",
       "\n",
       "[577 rows x 2 columns]"
      ]
     },
     "execution_count": 78,
     "metadata": {},
     "output_type": "execute_result"
    }
   ],
   "source": [
    "import pandas as pd\n",
    "# Definir las fechas de inicio y fin\n",
    "start_date = '2018-09-03 08:00:00'\n",
    "end_date = '2018-09-27 08:00:00'\n",
    "\n",
    "semana = pd.read_csv('datos_filtrados.csv')\n",
    "# Filtrar el DataFrame\n",
    "semana = semana[(semana['datetime'] >= start_date) & (semana['datetime'] <= end_date)]\n",
    "\n",
    "# Resetear el índice y ajustar para que comience desde 1\n",
    "semana = semana.reset_index(drop=True)\n",
    "\n",
    "# Quedarse solo con las columnas 'datetime' y 'number_tweets'\n",
    "semana = semana[['datetime', 'number_tweets']]\n",
    "\n",
    "semana"
   ]
  },
  {
   "cell_type": "markdown",
   "metadata": {},
   "source": [
    "Añadimos columna día de la semana, con categorías de 1 a 7"
   ]
  },
  {
   "cell_type": "code",
   "execution_count": 79,
   "metadata": {},
   "outputs": [
    {
     "name": "stdout",
     "output_type": "stream",
     "text": [
      "               datetime  day_of_week  number_tweets\n",
      "572 2018-09-27 04:00:00            4              0\n",
      "573 2018-09-27 05:00:00            4              0\n",
      "574 2018-09-27 06:00:00            4              0\n",
      "575 2018-09-27 07:00:00            4              0\n",
      "576 2018-09-27 08:00:00            4              0\n"
     ]
    }
   ],
   "source": [
    "import pandas as pd\n",
    "\n",
    "semana['datetime'] = pd.to_datetime(semana['datetime'])\n",
    "\n",
    "# Crear la nueva columna 'day_of_week' donde 1 = lunes, 7 = domingo\n",
    "semana['day_of_week'] = semana['datetime'].dt.weekday + 1\n",
    "\n",
    "# Mostrar el dataframe con la nueva columna\n",
    "print(semana[['datetime', 'day_of_week', 'number_tweets']].tail(5))\n"
   ]
  },
  {
   "cell_type": "code",
   "execution_count": 80,
   "metadata": {},
   "outputs": [],
   "source": [
    "semana = semana.set_index('datetime')  # Usar datetime como índice"
   ]
  },
  {
   "cell_type": "code",
   "execution_count": 81,
   "metadata": {},
   "outputs": [
    {
     "data": {
      "text/html": [
       "<div>\n",
       "<style scoped>\n",
       "    .dataframe tbody tr th:only-of-type {\n",
       "        vertical-align: middle;\n",
       "    }\n",
       "\n",
       "    .dataframe tbody tr th {\n",
       "        vertical-align: top;\n",
       "    }\n",
       "\n",
       "    .dataframe thead th {\n",
       "        text-align: right;\n",
       "    }\n",
       "</style>\n",
       "<table border=\"1\" class=\"dataframe\">\n",
       "  <thead>\n",
       "    <tr style=\"text-align: right;\">\n",
       "      <th></th>\n",
       "      <th>number_tweets</th>\n",
       "      <th>day_of_week</th>\n",
       "    </tr>\n",
       "    <tr>\n",
       "      <th>datetime</th>\n",
       "      <th></th>\n",
       "      <th></th>\n",
       "    </tr>\n",
       "  </thead>\n",
       "  <tbody>\n",
       "    <tr>\n",
       "      <th>2018-09-03 08:00:00</th>\n",
       "      <td>161</td>\n",
       "      <td>1</td>\n",
       "    </tr>\n",
       "    <tr>\n",
       "      <th>2018-09-03 09:00:00</th>\n",
       "      <td>255</td>\n",
       "      <td>1</td>\n",
       "    </tr>\n",
       "    <tr>\n",
       "      <th>2018-09-03 10:00:00</th>\n",
       "      <td>892</td>\n",
       "      <td>1</td>\n",
       "    </tr>\n",
       "    <tr>\n",
       "      <th>2018-09-03 11:00:00</th>\n",
       "      <td>1385</td>\n",
       "      <td>1</td>\n",
       "    </tr>\n",
       "    <tr>\n",
       "      <th>2018-09-03 12:00:00</th>\n",
       "      <td>1610</td>\n",
       "      <td>1</td>\n",
       "    </tr>\n",
       "    <tr>\n",
       "      <th>...</th>\n",
       "      <td>...</td>\n",
       "      <td>...</td>\n",
       "    </tr>\n",
       "    <tr>\n",
       "      <th>2018-09-27 04:00:00</th>\n",
       "      <td>0</td>\n",
       "      <td>4</td>\n",
       "    </tr>\n",
       "    <tr>\n",
       "      <th>2018-09-27 05:00:00</th>\n",
       "      <td>0</td>\n",
       "      <td>4</td>\n",
       "    </tr>\n",
       "    <tr>\n",
       "      <th>2018-09-27 06:00:00</th>\n",
       "      <td>0</td>\n",
       "      <td>4</td>\n",
       "    </tr>\n",
       "    <tr>\n",
       "      <th>2018-09-27 07:00:00</th>\n",
       "      <td>0</td>\n",
       "      <td>4</td>\n",
       "    </tr>\n",
       "    <tr>\n",
       "      <th>2018-09-27 08:00:00</th>\n",
       "      <td>0</td>\n",
       "      <td>4</td>\n",
       "    </tr>\n",
       "  </tbody>\n",
       "</table>\n",
       "<p>577 rows × 2 columns</p>\n",
       "</div>"
      ],
      "text/plain": [
       "                     number_tweets  day_of_week\n",
       "datetime                                       \n",
       "2018-09-03 08:00:00            161            1\n",
       "2018-09-03 09:00:00            255            1\n",
       "2018-09-03 10:00:00            892            1\n",
       "2018-09-03 11:00:00           1385            1\n",
       "2018-09-03 12:00:00           1610            1\n",
       "...                            ...          ...\n",
       "2018-09-27 04:00:00              0            4\n",
       "2018-09-27 05:00:00              0            4\n",
       "2018-09-27 06:00:00              0            4\n",
       "2018-09-27 07:00:00              0            4\n",
       "2018-09-27 08:00:00              0            4\n",
       "\n",
       "[577 rows x 2 columns]"
      ]
     },
     "execution_count": 81,
     "metadata": {},
     "output_type": "execute_result"
    }
   ],
   "source": [
    "semana"
   ]
  },
  {
   "cell_type": "code",
   "execution_count": 82,
   "metadata": {},
   "outputs": [],
   "source": [
    "y = semana['number_tweets']  # semana principal\n",
    "X = semana['day_of_week']  # Variable exógena"
   ]
  },
  {
   "cell_type": "code",
   "execution_count": null,
   "metadata": {},
   "outputs": [
    {
     "name": "stdout",
     "output_type": "stream",
     "text": [
      "Performing stepwise search to minimize aic\n",
      " ARIMA(2,0,2)(0,0,0)[0]             : AIC=8852.768, Time=0.35 sec\n",
      " ARIMA(0,0,0)(0,0,0)[0]             : AIC=9814.276, Time=0.02 sec\n",
      " ARIMA(1,0,0)(0,0,0)[0]             : AIC=8873.201, Time=0.02 sec\n",
      " ARIMA(0,0,1)(0,0,0)[0]             : AIC=9302.032, Time=0.11 sec\n",
      " ARIMA(1,0,2)(0,0,0)[0]             : AIC=8851.215, Time=0.10 sec\n",
      " ARIMA(0,0,2)(0,0,0)[0]             : AIC=9076.873, Time=0.25 sec\n",
      " ARIMA(1,0,1)(0,0,0)[0]             : AIC=8851.988, Time=0.06 sec\n",
      " ARIMA(1,0,3)(0,0,0)[0]             : AIC=8852.287, Time=0.10 sec\n",
      " ARIMA(0,0,3)(0,0,0)[0]             : AIC=8967.883, Time=0.27 sec\n",
      " ARIMA(2,0,1)(0,0,0)[0]             : AIC=8850.928, Time=0.11 sec\n",
      " ARIMA(2,0,0)(0,0,0)[0]             : AIC=8849.357, Time=0.05 sec\n",
      " ARIMA(3,0,0)(0,0,0)[0]             : AIC=8850.854, Time=0.07 sec\n",
      " ARIMA(3,0,1)(0,0,0)[0]             : AIC=8852.843, Time=0.15 sec\n",
      " ARIMA(2,0,0)(0,0,0)[0] intercept   : AIC=8813.300, Time=0.07 sec\n",
      " ARIMA(1,0,0)(0,0,0)[0] intercept   : AIC=8851.636, Time=0.04 sec\n",
      " ARIMA(3,0,0)(0,0,0)[0] intercept   : AIC=8809.581, Time=0.24 sec\n",
      " ARIMA(4,0,0)(0,0,0)[0] intercept   : AIC=8808.983, Time=0.10 sec\n",
      " ARIMA(5,0,0)(0,0,0)[0] intercept   : AIC=8810.670, Time=0.12 sec\n",
      " ARIMA(4,0,1)(0,0,0)[0] intercept   : AIC=8810.957, Time=0.26 sec\n",
      " ARIMA(3,0,1)(0,0,0)[0] intercept   : AIC=8811.196, Time=0.25 sec\n",
      " ARIMA(5,0,1)(0,0,0)[0] intercept   : AIC=8812.660, Time=0.39 sec\n",
      " ARIMA(4,0,0)(0,0,0)[0]             : AIC=8852.803, Time=0.09 sec\n",
      "\n",
      "Best model:  ARIMA(4,0,0)(0,0,0)[0] intercept\n",
      "Total fit time: 3.248 seconds\n",
      "                               SARIMAX Results                                \n",
      "==============================================================================\n",
      "Dep. Variable:                      y   No. Observations:                  577\n",
      "Model:               SARIMAX(4, 0, 0)   Log Likelihood               -4398.491\n",
      "Date:                Wed, 18 Dec 2024   AIC                           8808.983\n",
      "Time:                        16:47:39   BIC                           8835.130\n",
      "Sample:                    09-03-2018   HQIC                          8819.179\n",
      "                         - 09-27-2018                                         \n",
      "Covariance Type:                  opg                                         \n",
      "==============================================================================\n",
      "                 coef    std err          z      P>|z|      [0.025      0.975]\n",
      "------------------------------------------------------------------------------\n",
      "intercept    203.9400     47.559      4.288      0.000     110.726     297.154\n",
      "ar.L1          1.0019      0.031     32.106      0.000       0.941       1.063\n",
      "ar.L2         -0.1674      0.034     -4.901      0.000      -0.234      -0.100\n",
      "ar.L3         -0.0317      0.034     -0.931      0.352      -0.098       0.035\n",
      "ar.L4         -0.0667      0.029     -2.271      0.023      -0.124      -0.009\n",
      "sigma2      2.451e+05   9761.658     25.110      0.000    2.26e+05    2.64e+05\n",
      "===================================================================================\n",
      "Ljung-Box (L1) (Q):                   0.00   Jarque-Bera (JB):              1910.17\n",
      "Prob(Q):                              0.98   Prob(JB):                         0.00\n",
      "Heteroskedasticity (H):               0.30   Skew:                             0.03\n",
      "Prob(H) (two-sided):                  0.00   Kurtosis:                        11.91\n",
      "===================================================================================\n",
      "\n",
      "Warnings:\n",
      "[1] Covariance matrix calculated using the outer product of gradients (complex-step).\n"
     ]
    }
   ],
   "source": [
    "# Determinar automáticamente los mejores parámetros para ARIMA\n",
    "auto_model = auto_arima(y, exogenous=X, seasonal=False,  # Para SARIMAX, indicamos estacionalidad\n",
    "                      stepwise=True,  # Realiza una búsqueda paso a paso\n",
    "                      trace=True,  # Muestra el proceso de búsqueda\n",
    "                      suppress_warnings=True,  # Suprime los avisos\n",
    "                      )  # Utiliza todos los núcleos del procesador)\n",
    "print(auto_model.summary())"
   ]
  },
  {
   "cell_type": "code",
   "execution_count": 83,
   "metadata": {},
   "outputs": [
    {
     "name": "stderr",
     "output_type": "stream",
     "text": [
      "C:\\Users\\mussi\\AppData\\Local\\Packages\\PythonSoftwareFoundation.Python.3.9_qbz5n2kfra8p0\\LocalCache\\local-packages\\Python39\\site-packages\\statsmodels\\tsa\\base\\tsa_model.py:473: ValueWarning: No frequency information was provided, so inferred frequency H will be used.\n",
      "  self._init_dates(dates, freq)\n",
      "C:\\Users\\mussi\\AppData\\Local\\Packages\\PythonSoftwareFoundation.Python.3.9_qbz5n2kfra8p0\\LocalCache\\local-packages\\Python39\\site-packages\\statsmodels\\tsa\\base\\tsa_model.py:473: ValueWarning: No frequency information was provided, so inferred frequency H will be used.\n",
      "  self._init_dates(dates, freq)\n",
      "C:\\Users\\mussi\\AppData\\Local\\Packages\\PythonSoftwareFoundation.Python.3.9_qbz5n2kfra8p0\\LocalCache\\local-packages\\Python39\\site-packages\\statsmodels\\tsa\\statespace\\representation.py:374: FutureWarning: Unknown keyword arguments: dict_keys(['seasonal']).Passing unknown keyword arguments will raise a TypeError beginning in version 0.15.\n",
      "  warnings.warn(msg, FutureWarning)\n"
     ]
    },
    {
     "name": "stdout",
     "output_type": "stream",
     "text": [
      "                               SARIMAX Results                                \n",
      "==============================================================================\n",
      "Dep. Variable:          number_tweets   No. Observations:                  577\n",
      "Model:               SARIMAX(4, 0, 0)   Log Likelihood               -4415.567\n",
      "Date:                Wed, 18 Dec 2024   AIC                           8843.134\n",
      "Time:                        17:02:32   BIC                           8869.281\n",
      "Sample:                    09-03-2018   HQIC                          8853.330\n",
      "                         - 09-27-2018                                         \n",
      "Covariance Type:                  opg                                         \n",
      "===============================================================================\n",
      "                  coef    std err          z      P>|z|      [0.025      0.975]\n",
      "-------------------------------------------------------------------------------\n",
      "day_of_week   109.4038     21.029      5.202      0.000      68.187     150.621\n",
      "ar.L1           1.0632      0.025     42.937      0.000       1.015       1.112\n",
      "ar.L2          -0.2136      0.034     -6.250      0.000      -0.281      -0.147\n",
      "ar.L3          -0.0170      0.035     -0.493      0.622      -0.085       0.051\n",
      "ar.L4          -0.0230      0.030     -0.755      0.450      -0.083       0.037\n",
      "sigma2       2.591e+05   8663.567     29.912      0.000    2.42e+05    2.76e+05\n",
      "===================================================================================\n",
      "Ljung-Box (L1) (Q):                   0.16   Jarque-Bera (JB):              2006.40\n",
      "Prob(Q):                              0.69   Prob(JB):                         0.00\n",
      "Heteroskedasticity (H):               0.30   Skew:                            -0.13\n",
      "Prob(H) (two-sided):                  0.00   Kurtosis:                        12.13\n",
      "===================================================================================\n",
      "\n",
      "Warnings:\n",
      "[1] Covariance matrix calculated using the outer product of gradients (complex-step).\n"
     ]
    }
   ],
   "source": [
    "model = SARIMAX(y, \n",
    "                exog=X,  # La variable exógena (día o noche)\n",
    "                order=(4, 0, 0),seasonal=(0,0,0,0))  # Estacionalidad: P, Q, s\n",
    "\n",
    "results = model.fit()\n",
    "\n",
    "# Imprimir el resumen del modelo\n",
    "print(results.summary())"
   ]
  },
  {
   "cell_type": "markdown",
   "metadata": {},
   "source": [
    "Ahora el resultado del p valor es 0.00 por lo cual entendemos uqe el día de la semana si tiene un efecto sobre el número de tweets publicados."
   ]
  },
  {
   "cell_type": "code",
   "execution_count": null,
   "metadata": {},
   "outputs": [
    {
     "data": {
      "image/png": "[encoded data removed]",
      "text/plain": [
       "<Figure size 1008x504 with 1 Axes>"
      ]
     },
     "metadata": {
      "needs_background": "light"
     },
     "output_type": "display_data"
    }
   ],
   "source": [
    "import matplotlib.pyplot as plt\n",
    "\n",
    "# Crear una figura y un eje\n",
    "fig, ax = plt.subplots(figsize=(14, 7))\n",
    "\n",
    "# Colores para cada día de la semana\n",
    "colors = {1: 'red', 2: 'orange', 3: 'yellow', 4: 'green', 5: 'blue', 6: 'purple', 7: 'pink'}\n",
    "\n",
    "# Graficar cada día de la semana con un color diferente\n",
    "for day, color in colors.items():\n",
    "    day_data = semana[semana['day_of_week'] == day]\n",
    "    ax.scatter(day_data.index, day_data['number_tweets'], label=f'Día {day}', color=color)\n",
    "\n",
    "# Añadir leyenda\n",
    "ax.legend()\n",
    "\n",
    "# Añadir títulos y etiquetas\n",
    "ax.set_title('Número de Tweets por Fecha y Día de la Semana')\n",
    "ax.set_xlabel('Fecha')\n",
    "ax.set_ylabel('Número de Tweets')\n",
    "\n",
    "# Mostrar el gráfico\n",
    "plt.show()"
   ]
  }
 ],
 "metadata": {
  "kernelspec": {
   "display_name": "Python 3",
   "language": "python",
   "name": "python3"
  },
  "language_info": {
   "codemirror_mode": {
    "name": "ipython",
    "version": 3
   },
   "file_extension": ".py",
   "mimetype": "text/x-python",
   "name": "python",
   "nbconvert_exporter": "python",
   "pygments_lexer": "ipython3",
   "version": "3.9.13"
  }
 },
 "nbformat": 4,
 "nbformat_minor": 2
}
